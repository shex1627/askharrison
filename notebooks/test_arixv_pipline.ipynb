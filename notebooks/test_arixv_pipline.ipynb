{
 "cells": [
  {
   "cell_type": "code",
   "execution_count": 1,
   "metadata": {},
   "outputs": [],
   "source": [
    "# enable autoreload\n",
    "%load_ext autoreload\n",
    "%autoreload 2"
   ]
  },
  {
   "cell_type": "code",
   "execution_count": 2,
   "metadata": {},
   "outputs": [],
   "source": [
    "from askharrison.arxiv_search import expand_arxiv_query, run_multi_arixv_queries"
   ]
  },
  {
   "cell_type": "code",
   "execution_count": 3,
   "metadata": {},
   "outputs": [],
   "source": [
    "problem_statement = \"\"\"RAG(retrieval augmented generation) sometimes the sources retrieved are relevant but not enough to answer the question user ask. How do research approach this case\"\"\""
   ]
  },
  {
   "cell_type": "code",
   "execution_count": 4,
   "metadata": {},
   "outputs": [],
   "source": [
    "search_queries = expand_arxiv_query(problem_statement)"
   ]
  },
  {
   "cell_type": "code",
   "execution_count": 5,
   "metadata": {},
   "outputs": [
    {
     "data": {
      "text/plain": [
       "['Relevance of RAG sources in question answering',\n",
       " 'Improving retrieval augmented generation',\n",
       " 'Methods to enhance RAG performance',\n",
       " 'Optimization of retrieval augmented generation',\n",
       " 'RAG relevance in information retrieval',\n",
       " \"Strategies for improving RAG's source relevance\",\n",
       " \"Addressing RAG's limitations in source retrieval\",\n",
       " \"Research on enhancing RAG's relevance in question answering\",\n",
       " 'Handling irrelevant sources in retrieval augmented generation',\n",
       " 'Improvement techniques for retrieval augmented generation']"
      ]
     },
     "execution_count": 5,
     "metadata": {},
     "output_type": "execute_result"
    }
   ],
   "source": [
    "search_queries"
   ]
  },
  {
   "cell_type": "code",
   "execution_count": 6,
   "metadata": {},
   "outputs": [
    {
     "name": "stderr",
     "output_type": "stream",
     "text": [
      "100%|██████████| 10/10 [00:28<00:00,  2.89s/it]\n"
     ]
    }
   ],
   "source": [
    "arxiv_query_results = run_multi_arixv_queries(search_queries)"
   ]
  },
  {
   "cell_type": "code",
   "execution_count": 7,
   "metadata": {},
   "outputs": [
    {
     "data": {
      "text/plain": [
       "10"
      ]
     },
     "execution_count": 7,
     "metadata": {},
     "output_type": "execute_result"
    }
   ],
   "source": [
    "len(arxiv_query_results.items())"
   ]
  },
  {
   "cell_type": "code",
   "execution_count": 8,
   "metadata": {},
   "outputs": [],
   "source": [
    "# flatten arxiv_query_results\n",
    "all_results = []\n",
    "for query in arxiv_query_results:\n",
    "    for result in arxiv_query_results[query]:\n",
    "        all_results.append(result)\n",
    "\n",
    "# make arxiv query results a dataframe and create a new dataframe with only unique entry_id\n",
    "import pandas as pd\n",
    "\n",
    "arixv_result_df = pd.DataFrame(all_results)\n",
    "unique_arixv_result_df = arixv_result_df.drop_duplicates(subset='entry_id')"
   ]
  },
  {
   "cell_type": "code",
   "execution_count": 9,
   "metadata": {},
   "outputs": [
    {
     "data": {
      "text/plain": [
       "((200, 13), (130, 13))"
      ]
     },
     "execution_count": 9,
     "metadata": {},
     "output_type": "execute_result"
    }
   ],
   "source": [
    "arixv_result_df.shape, unique_arixv_result_df.shape"
   ]
  },
  {
   "cell_type": "code",
   "execution_count": 10,
   "metadata": {},
   "outputs": [
    {
     "data": {
      "text/html": [
       "<div>\n",
       "<style scoped>\n",
       "    .dataframe tbody tr th:only-of-type {\n",
       "        vertical-align: middle;\n",
       "    }\n",
       "\n",
       "    .dataframe tbody tr th {\n",
       "        vertical-align: top;\n",
       "    }\n",
       "\n",
       "    .dataframe thead th {\n",
       "        text-align: right;\n",
       "    }\n",
       "</style>\n",
       "<table border=\"1\" class=\"dataframe\">\n",
       "  <thead>\n",
       "    <tr style=\"text-align: right;\">\n",
       "      <th></th>\n",
       "      <th>authors</th>\n",
       "      <th>categories</th>\n",
       "      <th>comment</th>\n",
       "      <th>doi</th>\n",
       "      <th>journal_ref</th>\n",
       "      <th>links</th>\n",
       "      <th>pdf_url</th>\n",
       "      <th>primary_category</th>\n",
       "      <th>published</th>\n",
       "      <th>summary</th>\n",
       "      <th>title</th>\n",
       "      <th>updated</th>\n",
       "    </tr>\n",
       "    <tr>\n",
       "      <th>entry_id</th>\n",
       "      <th></th>\n",
       "      <th></th>\n",
       "      <th></th>\n",
       "      <th></th>\n",
       "      <th></th>\n",
       "      <th></th>\n",
       "      <th></th>\n",
       "      <th></th>\n",
       "      <th></th>\n",
       "      <th></th>\n",
       "      <th></th>\n",
       "      <th></th>\n",
       "    </tr>\n",
       "  </thead>\n",
       "  <tbody>\n",
       "    <tr>\n",
       "      <th>http://arxiv.org/abs/2404.07221v2</th>\n",
       "      <td>6</td>\n",
       "      <td>6</td>\n",
       "      <td>0</td>\n",
       "      <td>0</td>\n",
       "      <td>0</td>\n",
       "      <td>6</td>\n",
       "      <td>6</td>\n",
       "      <td>6</td>\n",
       "      <td>6</td>\n",
       "      <td>6</td>\n",
       "      <td>6</td>\n",
       "      <td>6</td>\n",
       "    </tr>\n",
       "    <tr>\n",
       "      <th>http://arxiv.org/abs/2402.01717v1</th>\n",
       "      <td>5</td>\n",
       "      <td>5</td>\n",
       "      <td>5</td>\n",
       "      <td>0</td>\n",
       "      <td>0</td>\n",
       "      <td>5</td>\n",
       "      <td>5</td>\n",
       "      <td>5</td>\n",
       "      <td>5</td>\n",
       "      <td>5</td>\n",
       "      <td>5</td>\n",
       "      <td>5</td>\n",
       "    </tr>\n",
       "    <tr>\n",
       "      <th>http://arxiv.org/abs/2406.13213v2</th>\n",
       "      <td>4</td>\n",
       "      <td>4</td>\n",
       "      <td>4</td>\n",
       "      <td>0</td>\n",
       "      <td>0</td>\n",
       "      <td>4</td>\n",
       "      <td>4</td>\n",
       "      <td>4</td>\n",
       "      <td>4</td>\n",
       "      <td>4</td>\n",
       "      <td>4</td>\n",
       "      <td>4</td>\n",
       "    </tr>\n",
       "    <tr>\n",
       "      <th>http://arxiv.org/abs/2402.17497v1</th>\n",
       "      <td>4</td>\n",
       "      <td>4</td>\n",
       "      <td>0</td>\n",
       "      <td>0</td>\n",
       "      <td>0</td>\n",
       "      <td>4</td>\n",
       "      <td>4</td>\n",
       "      <td>4</td>\n",
       "      <td>4</td>\n",
       "      <td>4</td>\n",
       "      <td>4</td>\n",
       "      <td>4</td>\n",
       "    </tr>\n",
       "    <tr>\n",
       "      <th>http://arxiv.org/abs/2401.11246v1</th>\n",
       "      <td>4</td>\n",
       "      <td>4</td>\n",
       "      <td>4</td>\n",
       "      <td>0</td>\n",
       "      <td>0</td>\n",
       "      <td>4</td>\n",
       "      <td>4</td>\n",
       "      <td>4</td>\n",
       "      <td>4</td>\n",
       "      <td>4</td>\n",
       "      <td>4</td>\n",
       "      <td>4</td>\n",
       "    </tr>\n",
       "    <tr>\n",
       "      <th>http://arxiv.org/abs/2409.01666v1</th>\n",
       "      <td>4</td>\n",
       "      <td>4</td>\n",
       "      <td>0</td>\n",
       "      <td>0</td>\n",
       "      <td>0</td>\n",
       "      <td>4</td>\n",
       "      <td>4</td>\n",
       "      <td>4</td>\n",
       "      <td>4</td>\n",
       "      <td>4</td>\n",
       "      <td>4</td>\n",
       "      <td>4</td>\n",
       "    </tr>\n",
       "    <tr>\n",
       "      <th>http://arxiv.org/abs/2407.18044v1</th>\n",
       "      <td>4</td>\n",
       "      <td>4</td>\n",
       "      <td>4</td>\n",
       "      <td>0</td>\n",
       "      <td>0</td>\n",
       "      <td>4</td>\n",
       "      <td>4</td>\n",
       "      <td>4</td>\n",
       "      <td>4</td>\n",
       "      <td>4</td>\n",
       "      <td>4</td>\n",
       "      <td>4</td>\n",
       "    </tr>\n",
       "    <tr>\n",
       "      <th>http://arxiv.org/abs/2401.15884v2</th>\n",
       "      <td>4</td>\n",
       "      <td>4</td>\n",
       "      <td>0</td>\n",
       "      <td>0</td>\n",
       "      <td>0</td>\n",
       "      <td>4</td>\n",
       "      <td>4</td>\n",
       "      <td>4</td>\n",
       "      <td>4</td>\n",
       "      <td>4</td>\n",
       "      <td>4</td>\n",
       "      <td>4</td>\n",
       "    </tr>\n",
       "    <tr>\n",
       "      <th>http://arxiv.org/abs/2210.02627v1</th>\n",
       "      <td>3</td>\n",
       "      <td>3</td>\n",
       "      <td>3</td>\n",
       "      <td>0</td>\n",
       "      <td>0</td>\n",
       "      <td>3</td>\n",
       "      <td>3</td>\n",
       "      <td>3</td>\n",
       "      <td>3</td>\n",
       "      <td>3</td>\n",
       "      <td>3</td>\n",
       "      <td>3</td>\n",
       "    </tr>\n",
       "    <tr>\n",
       "      <th>http://arxiv.org/abs/2407.19994v3</th>\n",
       "      <td>3</td>\n",
       "      <td>3</td>\n",
       "      <td>0</td>\n",
       "      <td>3</td>\n",
       "      <td>3</td>\n",
       "      <td>3</td>\n",
       "      <td>3</td>\n",
       "      <td>3</td>\n",
       "      <td>3</td>\n",
       "      <td>3</td>\n",
       "      <td>3</td>\n",
       "      <td>3</td>\n",
       "    </tr>\n",
       "  </tbody>\n",
       "</table>\n",
       "</div>"
      ],
      "text/plain": [
       "                                   authors  categories  comment  doi  \\\n",
       "entry_id                                                               \n",
       "http://arxiv.org/abs/2404.07221v2        6           6        0    0   \n",
       "http://arxiv.org/abs/2402.01717v1        5           5        5    0   \n",
       "http://arxiv.org/abs/2406.13213v2        4           4        4    0   \n",
       "http://arxiv.org/abs/2402.17497v1        4           4        0    0   \n",
       "http://arxiv.org/abs/2401.11246v1        4           4        4    0   \n",
       "http://arxiv.org/abs/2409.01666v1        4           4        0    0   \n",
       "http://arxiv.org/abs/2407.18044v1        4           4        4    0   \n",
       "http://arxiv.org/abs/2401.15884v2        4           4        0    0   \n",
       "http://arxiv.org/abs/2210.02627v1        3           3        3    0   \n",
       "http://arxiv.org/abs/2407.19994v3        3           3        0    3   \n",
       "\n",
       "                                   journal_ref  links  pdf_url  \\\n",
       "entry_id                                                         \n",
       "http://arxiv.org/abs/2404.07221v2            0      6        6   \n",
       "http://arxiv.org/abs/2402.01717v1            0      5        5   \n",
       "http://arxiv.org/abs/2406.13213v2            0      4        4   \n",
       "http://arxiv.org/abs/2402.17497v1            0      4        4   \n",
       "http://arxiv.org/abs/2401.11246v1            0      4        4   \n",
       "http://arxiv.org/abs/2409.01666v1            0      4        4   \n",
       "http://arxiv.org/abs/2407.18044v1            0      4        4   \n",
       "http://arxiv.org/abs/2401.15884v2            0      4        4   \n",
       "http://arxiv.org/abs/2210.02627v1            0      3        3   \n",
       "http://arxiv.org/abs/2407.19994v3            3      3        3   \n",
       "\n",
       "                                   primary_category  published  summary  \\\n",
       "entry_id                                                                  \n",
       "http://arxiv.org/abs/2404.07221v2                 6          6        6   \n",
       "http://arxiv.org/abs/2402.01717v1                 5          5        5   \n",
       "http://arxiv.org/abs/2406.13213v2                 4          4        4   \n",
       "http://arxiv.org/abs/2402.17497v1                 4          4        4   \n",
       "http://arxiv.org/abs/2401.11246v1                 4          4        4   \n",
       "http://arxiv.org/abs/2409.01666v1                 4          4        4   \n",
       "http://arxiv.org/abs/2407.18044v1                 4          4        4   \n",
       "http://arxiv.org/abs/2401.15884v2                 4          4        4   \n",
       "http://arxiv.org/abs/2210.02627v1                 3          3        3   \n",
       "http://arxiv.org/abs/2407.19994v3                 3          3        3   \n",
       "\n",
       "                                   title  updated  \n",
       "entry_id                                           \n",
       "http://arxiv.org/abs/2404.07221v2      6        6  \n",
       "http://arxiv.org/abs/2402.01717v1      5        5  \n",
       "http://arxiv.org/abs/2406.13213v2      4        4  \n",
       "http://arxiv.org/abs/2402.17497v1      4        4  \n",
       "http://arxiv.org/abs/2401.11246v1      4        4  \n",
       "http://arxiv.org/abs/2409.01666v1      4        4  \n",
       "http://arxiv.org/abs/2407.18044v1      4        4  \n",
       "http://arxiv.org/abs/2401.15884v2      4        4  \n",
       "http://arxiv.org/abs/2210.02627v1      3        3  \n",
       "http://arxiv.org/abs/2407.19994v3      3        3  "
      ]
     },
     "execution_count": 10,
     "metadata": {},
     "output_type": "execute_result"
    }
   ],
   "source": [
    "arixv_result_df.groupby('entry_id').count().sort_values('title', ascending=False).head(10)"
   ]
  }
 ],
 "metadata": {
  "kernelspec": {
   "display_name": "ds",
   "language": "python",
   "name": "python3"
  },
  "language_info": {
   "codemirror_mode": {
    "name": "ipython",
    "version": 3
   },
   "file_extension": ".py",
   "mimetype": "text/x-python",
   "name": "python",
   "nbconvert_exporter": "python",
   "pygments_lexer": "ipython3",
   "version": "3.10.13"
  }
 },
 "nbformat": 4,
 "nbformat_minor": 2
}
