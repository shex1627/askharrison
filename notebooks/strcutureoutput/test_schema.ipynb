{
 "cells": [
  {
   "cell_type": "code",
   "execution_count": 65,
   "metadata": {},
   "outputs": [
    {
     "name": "stdout",
     "output_type": "stream",
     "text": [
      "The autoreload extension is already loaded. To reload it, use:\n",
      "  %reload_ext autoreload\n"
     ]
    }
   ],
   "source": [
    "#autoreload\n",
    "%load_ext autoreload\n",
    "%autoreload 2"
   ]
  },
  {
   "cell_type": "code",
   "execution_count": 66,
   "metadata": {},
   "outputs": [],
   "source": [
    "from askharrison.llmparse.schema_recommender import SchemaGenerator"
   ]
  },
  {
   "cell_type": "code",
   "execution_count": 67,
   "metadata": {},
   "outputs": [],
   "source": [
    "from askharrison.llm.openai_llm_client import OpenAIClient"
   ]
  },
  {
   "cell_type": "code",
   "execution_count": 68,
   "metadata": {},
   "outputs": [],
   "source": [
    "openai_client = OpenAIClient()"
   ]
  },
  {
   "cell_type": "code",
   "execution_count": 69,
   "metadata": {},
   "outputs": [],
   "source": [
    "schema_generator = SchemaGenerator(openai_client)"
   ]
  },
  {
   "cell_type": "code",
   "execution_count": 7,
   "metadata": {},
   "outputs": [],
   "source": [
    "output = schema_generator.generate_schema_from_description(\"generate a qa schema from chat history of a support chat channel\")"
   ]
  },
  {
   "cell_type": "code",
   "execution_count": 70,
   "metadata": {},
   "outputs": [],
   "source": [
    "from askharrison.llm_models import extract_python_code, safe_eval\n",
    "from askharrison.llmparse.uitl import format_json_schema"
   ]
  },
  {
   "cell_type": "code",
   "execution_count": 18,
   "metadata": {},
   "outputs": [
    {
     "name": "stdout",
     "output_type": "stream",
     "text": [
      "['SupportChatHistory:', '  Type: object', '  Properties:', '    chat_id:', '      Type: string', '      Description: A unique identifier for the chat session', '    start_time:', '      Type: string', '      Description: The timestamp when the chat session began', '    end_time:', '      Type: string', '      Description: The timestamp when the chat session ended', '    participants:', '      Type: array', '      Description: List of participants in the chat', '      Array items:', '        Root:', '          Type: object', '          Properties:', '            user_id:', '              Type: string', '              Description: Unique identifier for the user', '            role:', '              Type: string', '              Description: Role of the participant in the chat', \"              Constraints: allowed values: ['agent', 'customer']\", '            name:', '              Type: string', '              Description: Name of the participant', '          Required fields: user_id, role', '    messages:', '      Type: array', '      Description: The list of messages exchanged during the chat session', '      Array items:', '        Root:', '          Type: object', '          Properties:', '            timestamp:', '              Type: string', '              Description: The timestamp when the message was sent', '            sender_id:', '              Type: string', '              Description: The user_id of the sender', '            message:', '              Type: string', '              Description: The content of the message', '            attachments:', '              Type: array', '              Description: List of attachments included with the message, if any', '              Array items:', '                Root:', '                  Type: object', '                  Properties:', '                    type:', '                      Type: string', '                      Description: Type of attachment, e.g., image, file, link', '                    url:', '                      Type: string', '                      Description: URL to the attachment', '                  Required fields: type, url', '          Required fields: timestamp, sender_id, message', '    tags:', '      Type: array', '      Description: Tags associated with the chat session for categorization', '      Array items:', '        Root:', '          Type: string', '  Required fields: chat_id, start_time, end_time, participants, messages']\n"
     ]
    }
   ],
   "source": [
    "print(format_json_schema(output))"
   ]
  },
  {
   "cell_type": "code",
   "execution_count": 9,
   "metadata": {},
   "outputs": [],
   "source": [
    "import json\n"
   ]
  },
  {
   "cell_type": "code",
   "execution_count": 26,
   "metadata": {},
   "outputs": [],
   "source": [
    "output2 = schema_generator.generate_schema_from_description(\"\"\"generate a qa schema from chat history of a support chat channel\n",
    "                                                        The schema should have a field for the question and a field for the answer or resolution\n",
    "                                                        answer is null if the question is not answered\n",
    "                                                        also include start_date and end_date\"\"\")\n"
   ]
  },
  {
   "cell_type": "code",
   "execution_count": 28,
   "metadata": {},
   "outputs": [
    {
     "data": {
      "text/plain": [
       "{'$schema': 'http://json-schema.org/draft-07/schema#',\n",
       " 'title': 'Support Chat QA',\n",
       " 'type': 'object',\n",
       " 'properties': {'question': {'type': 'string',\n",
       "   'description': 'The question asked in the support chat.'},\n",
       "  'answer': {'type': ['string', 'null'],\n",
       "   'description': 'The answer or resolution provided in the support chat, or null if the question was unanswered.'},\n",
       "  'start_date': {'type': 'string',\n",
       "   'format': 'date-time',\n",
       "   'description': 'The date and time when the question was asked or the chat session began.'},\n",
       "  'end_date': {'type': ['string', 'null'],\n",
       "   'format': 'date-time',\n",
       "   'description': 'The date and time when the chat session ended, or null if the chat is ongoing.'},\n",
       "  'chat_id': {'type': 'string',\n",
       "   'description': 'A unique identifier for the chat session.'},\n",
       "  'user_id': {'type': 'string',\n",
       "   'description': 'A unique identifier for the user asking the question.'},\n",
       "  'agent_id': {'type': ['string', 'null'],\n",
       "   'description': 'A unique identifier for the support agent answering the question, or null if unanswered.'},\n",
       "  'status': {'type': 'string',\n",
       "   'enum': ['answered', 'unanswered', 'in progress'],\n",
       "   'description': 'The current status of the question.'},\n",
       "  'tags': {'type': 'array',\n",
       "   'items': {'type': 'string'},\n",
       "   'description': 'Tags categorizing the question for easier search and identification.'},\n",
       "  'priority': {'type': 'string',\n",
       "   'enum': ['low', 'medium', 'high'],\n",
       "   'description': 'The priority level of the question.'}},\n",
       " 'required': ['question', 'start_date']}"
      ]
     },
     "execution_count": 28,
     "metadata": {},
     "output_type": "execute_result"
    }
   ],
   "source": [
    "output2"
   ]
  },
  {
   "cell_type": "code",
   "execution_count": 32,
   "metadata": {},
   "outputs": [],
   "source": [
    "output_with_feedback = schema_generator.update_schema_from_feedback(output2, \"remove agent_id\")"
   ]
  },
  {
   "cell_type": "code",
   "execution_count": 33,
   "metadata": {},
   "outputs": [
    {
     "data": {
      "text/plain": [
       "{'description': \"An updated schema for the Support Chat QA with improvements and removal of the 'agent_id' field.\",\n",
       " 'schema': {'$schema': 'http://json-schema.org/draft-07/schema#',\n",
       "  'title': 'Support Chat QA',\n",
       "  'type': 'object',\n",
       "  'properties': {'question': {'type': 'string',\n",
       "    'description': 'The question asked in the support chat.'},\n",
       "   'answer': {'type': ['string', 'null'],\n",
       "    'description': 'The answer or resolution provided in the support chat, or null if the question was unanswered.'},\n",
       "   'start_date': {'type': 'string',\n",
       "    'format': 'date-time',\n",
       "    'description': 'The date and time when the question was asked or the chat session began.'},\n",
       "   'end_date': {'type': ['string', 'null'],\n",
       "    'format': 'date-time',\n",
       "    'description': 'The date and time when the chat session ended, or null if the chat is ongoing.'},\n",
       "   'chat_id': {'type': 'string',\n",
       "    'description': 'A unique identifier for the chat session.'},\n",
       "   'user_id': {'type': 'string',\n",
       "    'description': 'A unique identifier for the user asking the question.'},\n",
       "   'status': {'type': 'string',\n",
       "    'enum': ['answered', 'unanswered', 'in progress'],\n",
       "    'description': 'The current status of the question.'},\n",
       "   'tags': {'type': 'array',\n",
       "    'items': {'type': 'string'},\n",
       "    'description': 'Tags categorizing the question for easier search and identification.'},\n",
       "   'priority': {'type': 'string',\n",
       "    'enum': ['low', 'medium', 'high'],\n",
       "    'description': 'The priority level of the question.'}},\n",
       "  'required': ['question', 'start_date']}}"
      ]
     },
     "execution_count": 33,
     "metadata": {},
     "output_type": "execute_result"
    }
   ],
   "source": [
    "output_with_feedback "
   ]
  },
  {
   "cell_type": "code",
   "execution_count": 71,
   "metadata": {},
   "outputs": [],
   "source": [
    "with open(\"C:\\\\Users\\\\alist\\\\Desktop\\\\code\\\\askharrison\\\\notebooks\\\\data\\\\cc_features.txt\") as f:\n",
    "    text = f.read()"
   ]
  },
  {
   "cell_type": "code",
   "execution_count": 79,
   "metadata": {},
   "outputs": [],
   "source": [
    "schema_generator.clear_message_history()\n",
    "recommended_output = schema_generator.recommend_schema_from_document(text)"
   ]
  },
  {
   "cell_type": "code",
   "execution_count": 83,
   "metadata": {},
   "outputs": [],
   "source": [
    "from askharrison.llm_models import process_question"
   ]
  },
  {
   "cell_type": "code",
   "execution_count": 84,
   "metadata": {},
   "outputs": [],
   "source": [
    "test_outputs = process_question(f\"\"\"generate example output for the schema: {recommended_output}\"\"\")"
   ]
  },
  {
   "cell_type": "code",
   "execution_count": 86,
   "metadata": {},
   "outputs": [
    {
     "data": {
      "text/plain": [
       "{'updates': [{'date': '2023-10-15',\n",
       "   'title': 'Enhanced Reporting Dashboards',\n",
       "   'description': 'We have improved the reporting dashboard with new visualizations and real-time data monitoring capabilities to enhance decision-making processes.',\n",
       "   'section': \"What's new\",\n",
       "   'additionalInfo': {'links': ['https://www.webex.com/contact-center/reporting-dashboard-upgrade',\n",
       "     'https://www.webex.com/news/2023-october-update'],\n",
       "    'features': ['Real-time data monitoring',\n",
       "     'Advanced visualizations',\n",
       "     'Customizable dashboard layout']}},\n",
       "  {'date': '2023-11-01',\n",
       "   'title': 'Upcoming AI-Powered Customer Insights',\n",
       "   'description': 'We are excited to announce that AI-powered customer insights will be available soon. This includes sentiment analysis and customer journey mapping to better understand customer needs.',\n",
       "   'section': 'Coming soon',\n",
       "   'additionalInfo': {'links': ['https://www.webex.com/contact-center/ai-insights-preview'],\n",
       "    'features': ['Sentiment analysis', 'Customer journey mapping']}}]}"
      ]
     },
     "execution_count": 86,
     "metadata": {},
     "output_type": "execute_result"
    }
   ],
   "source": [
    "safe_eval(extract_python_code(test_outputs))"
   ]
  },
  {
   "cell_type": "code",
   "execution_count": 89,
   "metadata": {},
   "outputs": [],
   "source": [
    "from askharrison.llmparse.document_parser import DocumentParser\n",
    "document_parser = DocumentParser(openai_client) "
   ]
  },
  {
   "cell_type": "code",
   "execution_count": 92,
   "metadata": {},
   "outputs": [
    {
     "name": "stdout",
     "output_type": "stream",
     "text": [
      "Document too large, splitting into chunks\n",
      "Document too large, splitting into 2 chunks\n",
      "Fields description:\n",
      "{'description': 'JSON schema for parsing Webex Contact Center update announcements', 'type': 'object', 'properties': {'updates': {'type': 'array', 'items': {'type': 'object', 'properties': {'date': {'type': 'string', 'format': 'date', 'description': 'The date the update was announced.'}, 'title': {'type': 'string', 'description': 'The title of the update or feature.'}, 'description': {'type': 'string', 'description': 'A detailed description of the update or feature.'}, 'section': {'type': 'string', 'enum': [\"What's new\", 'Coming soon', 'Limitations', 'Announcements'], 'description': 'Section of the update in the document.'}, 'additionalInfo': {'type': 'object', 'properties': {'links': {'type': 'array', 'items': {'type': 'string', 'format': 'uri', 'description': 'Links to more details or documentation.'}}, 'features': {'type': 'array', 'items': {'type': 'string', 'description': 'Brief list of key features or enhancements.'}}}, 'description': 'Additional links and features related to the announcement.'}}, 'required': ['date', 'title', 'description']}}}, 'required': ['updates']}\n",
      "Invalid JSON in LLM response, returning raw response\n",
      "Fields description:\n",
      "{'description': 'JSON schema for parsing Webex Contact Center update announcements', 'type': 'object', 'properties': {'updates': {'type': 'array', 'items': {'type': 'object', 'properties': {'date': {'type': 'string', 'format': 'date', 'description': 'The date the update was announced.'}, 'title': {'type': 'string', 'description': 'The title of the update or feature.'}, 'description': {'type': 'string', 'description': 'A detailed description of the update or feature.'}, 'section': {'type': 'string', 'enum': [\"What's new\", 'Coming soon', 'Limitations', 'Announcements'], 'description': 'Section of the update in the document.'}, 'additionalInfo': {'type': 'object', 'properties': {'links': {'type': 'array', 'items': {'type': 'string', 'format': 'uri', 'description': 'Links to more details or documentation.'}}, 'features': {'type': 'array', 'items': {'type': 'string', 'description': 'Brief list of key features or enhancements.'}}}, 'description': 'Additional links and features related to the announcement.'}}, 'required': ['date', 'title', 'description']}}}, 'required': ['updates']}\n",
      "Invalid JSON in LLM response, returning raw response\n"
     ]
    }
   ],
   "source": [
    "release_document_output = document_parser.parse_document(text, recommended_output)"
   ]
  },
  {
   "cell_type": "code",
   "execution_count": 91,
   "metadata": {},
   "outputs": [
    {
     "data": {
      "text/plain": [
       "[{'updates': [{'date': '2025-01-27',\n",
       "    'title': 'Introducing cookies consent for Livechat widget',\n",
       "    'description': \"Businesses can ensure they respect their customers' privacy choices by allowing them to explicitly consent to cookies stored by our Livechat service before starting a chat session. Additionally, we now offer an option to link a business's privacy URL to the widget so that customers can understand how their data is tracked and used by the business. This optional configuration will not impact existing widgets.\",\n",
       "    'section': \"What's new\",\n",
       "    'additionalInfo': {'links': [], 'features': []}},\n",
       "   {'date': '2025-01-27',\n",
       "    'title': 'Retain email addresses in the To field',\n",
       "    'description': 'Agents can now add multiple email addresses in the To field when replying to all in a conversation. Additionally, agents can remove any email address from the list except the primary one.',\n",
       "    'section': \"What's new\",\n",
       "    'additionalInfo': {'links': [], 'features': []}},\n",
       "   {'date': '2025-01-24',\n",
       "    'title': 'Agent initiated outbound SMS and Email support',\n",
       "    'description': 'Supervisors will soon be able to initiate an outbound SMS or Email Task from the Webex Contact Center Agent Desktop. They can initiate an outbound task regardless of their current status. This capability will allow supervisors to send updates to customers or external partners outside of the regular interactions on demand, available to all supervisors with access to digital channels powered by Webex Connect, depending on thresholds configured.',\n",
       "    'section': 'Coming soon',\n",
       "    'additionalInfo': {'links': [], 'features': []}},\n",
       "   {'date': '2025-01-15',\n",
       "    'title': 'Progressive 1:1 Popover Enhancement',\n",
       "    'description': 'Allows an organization to pass customer data to the Desktop when the Dialing rate is set to 1.0 and the mode is progressive only, to prepare for the call prior to connecting.',\n",
       "    'section': \"What's new\",\n",
       "    'additionalInfo': {'links': ['https://configure-voice-outbound-campaign-modes'],\n",
       "     'features': []}},\n",
       "   {'date': '2025-01-15',\n",
       "    'title': 'Flow Designer canvas enhancements for streamlined development',\n",
       "    'description': 'A suite of Canvas Enhancements including Undo/Redo, Auto Arrange capabilities, Copy/Paste across flows, and keyboard shortcuts, aimed at improving productivity and user experience in flow development.',\n",
       "    'section': \"What's new\",\n",
       "    'additionalInfo': {'links': [],\n",
       "     'features': ['Undo/Redo capability',\n",
       "      'Auto Arrange feature',\n",
       "      'Copy/Paste across flows',\n",
       "      'Keyboard shortcuts']}},\n",
       "   {'date': '2025-01-07',\n",
       "    'title': 'Enhancing SFDC case creation experience',\n",
       "    'description': 'Auto-case creation in Salesforce now opens all new cases in a separate tab, regardless of contact status.',\n",
       "    'section': \"What's new\",\n",
       "    'additionalInfo': {'links': [], 'features': []}},\n",
       "   {'date': '2024-12-16',\n",
       "    'title': 'Global Variables now available in Control Hub',\n",
       "    'description': 'Webex Contact Center has integrated Global Variables into Control Hub, allowing access and management through the Flow tab.',\n",
       "    'section': \"What's new\",\n",
       "    'additionalInfo': {'links': ['https://manage-global-variables'],\n",
       "     'features': []}},\n",
       "   {'date': '2024-12-16',\n",
       "    'title': 'Enhanced tracking and sorting capabilities',\n",
       "    'description': 'Includes Last edited by columns and Collection views sorting in Webex Contact Center to aid in tracking changes and sorting configuration entities.',\n",
       "    'section': \"What's new\",\n",
       "    'additionalInfo': {'links': [],\n",
       "     'features': ['Last edited by column', 'Collection views sorting']}},\n",
       "   {'date': '2024-12-16',\n",
       "    'title': 'Update in onboarding to support Common Edge platform',\n",
       "    'description': 'Updated onboarding process to make Common Edge the default telephony integration for Webex Contact Center, enhancing the user experience and streamlining provisioning.',\n",
       "    'section': \"What's new\",\n",
       "    'additionalInfo': {'links': ['https://get-started-with-webex-contact-center'],\n",
       "     'features': ['End of legacy VPOP provisioning',\n",
       "      'Cloud connected PSTN',\n",
       "      'Support for multiple PSTN services']}},\n",
       "   {'date': '2024-12-12',\n",
       "    'title': 'Enhanced recording playback',\n",
       "    'description': 'Upgraded playback experience providing an intuitive layout that helps supervisors identify key moments in call segments easily, ensuring efficient supervision.',\n",
       "    'section': \"What's new\",\n",
       "    'additionalInfo': {'links': ['https://supervise-your-agents-and-teams'],\n",
       "     'features': []}},\n",
       "   {'date': '2024-12-12',\n",
       "    'title': 'Sign out agents in Team Performance Details',\n",
       "    'description': 'The feature allows signing out of agents from the team performance details widget in Supervisor Desktop, important for agents still marked available after leaving.',\n",
       "    'section': \"What's new\",\n",
       "    'additionalInfo': {'links': ['https://supervise-your-agents-and-teams'],\n",
       "     'features': []}},\n",
       "   {'date': '2024-12-11',\n",
       "    'title': 'Consult, conference or transfer voice calls to experts within Webex organization with Presence lookup',\n",
       "    'description': 'This feature enables agents to utilize Presence lookup for seamless connection with experts based on real-time availability within Webex, enhancing customer experience.',\n",
       "    'section': \"What's new\",\n",
       "    'additionalInfo': {'links': ['https://manage-webex-app-desktop-settings',\n",
       "      'https://create-a-desktop-profile',\n",
       "      'https://initiate-a-consult',\n",
       "      'https://transfer-a-call'],\n",
       "     'features': []}},\n",
       "   {'date': '2024-12-04',\n",
       "    'title': 'Flow Analytics for Webex Contact Center Flow Designer',\n",
       "    'description': 'Flow Analytics provides visual representation for contact traversals through activities offering insights for optimizing flows and improving overall customer experience.',\n",
       "    'section': \"What's new\",\n",
       "    'additionalInfo': {'links': ['https://flow-analytics'], 'features': []}},\n",
       "   {'date': '2024-12-02',\n",
       "    'title': 'PII masking capabilities for improved security',\n",
       "    'description': 'Introduced PII masking capabilities within security configurations to ensure customer information confidentiality across all channels.',\n",
       "    'section': \"What's new\",\n",
       "    'additionalInfo': {'links': ['https://set-up-security-for-webex-contact-center',\n",
       "      'https://handle-incoming-calls',\n",
       "      'https://handle-digital-channel-conversations'],\n",
       "     'features': []}},\n",
       "   {'date': '2024-11-29',\n",
       "    'title': 'Secure Global Variables',\n",
       "    'description': 'This feature introduces tighter control on handling sensitive data with Global Variables classified as secure, inaccessible in logs and reports but available decryptably for agents.',\n",
       "    'section': \"What's new\",\n",
       "    'additionalInfo': {'links': [],\n",
       "     'features': ['Secure Global Variables',\n",
       "      'Mark Sensitive Information toggle']}},\n",
       "   {'date': '2024-11-27',\n",
       "    'title': 'Invoke Webex Contact Center APIs from Flow Designer',\n",
       "    'description': 'Allows public APIs to be invoked from the Flow Designer to enable unique business solutions through orchestration, improving operational efficiency.',\n",
       "    'section': \"What's new\",\n",
       "    'additionalInfo': {'links': ['https://create-webex-contact-center-http-connector'],\n",
       "     'features': []}},\n",
       "   {'date': '2024-11-22',\n",
       "    'title': 'Introducing Web chat asset management on Control Hub',\n",
       "    'description': 'Administrators can now manage web chat assets efficiently in Control Hub, custom-tailoring chat widgets and handling IP block lists.',\n",
       "    'section': \"What's new\",\n",
       "    'additionalInfo': {'links': [], 'features': []}},\n",
       "   {'date': '2024-11-20',\n",
       "    'title': 'Support for shared mailboxes to send emails using SMTP',\n",
       "    'description': 'Webex Connect now supports configuring shared mailboxes with service account authentication to send and receive emails, providing enhanced mailbox management capabilities.',\n",
       "    'section': \"What's new\",\n",
       "    'additionalInfo': {'links': [], 'features': []}},\n",
       "   {'date': '2024-11-18',\n",
       "    'title': 'Queue-based reports',\n",
       "    'description': 'Queue-based reports provide comprehensive insights at the queue level, offering new stock reports and a new Queue Record repository in Analyzer.',\n",
       "    'section': \"What's new\",\n",
       "    'additionalInfo': {'links': ['https://queue-based-reports',\n",
       "      'https://standard-queue-record-fields-and-measures'],\n",
       "     'features': []}},\n",
       "   {'date': '2024-11-15',\n",
       "    'title': 'Webex AI Agent Beta',\n",
       "    'description': 'Open for Beta sign-ups, the Webex AI Agent can create AI agents for automating interactions in voice and digital channels. Available to US region customers on the Next Generation Media Platform.',\n",
       "    'section': 'Announcements',\n",
       "    'additionalInfo': {'links': [],\n",
       "     'features': ['AI-generated call summaries',\n",
       "      'Auto summaries for dropped calls',\n",
       "      'Virtual Agent Transfer Summaries']}},\n",
       "   {'date': '2024-11-13',\n",
       "    'title': 'WebRTC support for Supervisor Desktop',\n",
       "    'description': 'WebRTC support enables supervisors to facilitate calls directly from their browser, removing the need for external phones and utilizing voice functionalities efficiently.',\n",
       "    'section': \"What's new\",\n",
       "    'additionalInfo': {'links': ['https://manage-desktop-profiles',\n",
       "      'https://change-your-dial-number-or-extension',\n",
       "      'https://edit-your-profile-in-supervisor-desktop',\n",
       "      'https://sign-in-to-supervisor-desktop',\n",
       "      'https://supervise-your-agents-and-teams'],\n",
       "     'features': []}},\n",
       "   {'date': '2024-11-11',\n",
       "    'title': 'Remove contact skills on agent blind transfer',\n",
       "    'description': 'Enables removal of contact skills upon agent blind transfer, allowing the longest available agent to receive the transferred contact, optimizing call handling.',\n",
       "    'section': \"What's new\",\n",
       "    'additionalInfo': {'links': ['https://queue-contact'], 'features': []}},\n",
       "   {'date': '2024-11-04',\n",
       "    'title': 'Maximize Return on Investment with New CRM Connectors',\n",
       "    'description': 'New CRM Connectors for Salesforce, Microsoft Dynamics 365, and ServiceNow simplify management, enhancing security, performance, and efficiency in data transfer.',\n",
       "    'section': \"What's new\",\n",
       "    'additionalInfo': {'links': ['https://integrate-webex-contact-center-with-dynamics',\n",
       "      'https://integrate-webex-contact-center-with-servicenow',\n",
       "      'https://integrate-webex-contact-center-with-salesforce'],\n",
       "     'features': []}},\n",
       "   {'date': '2024-10-30',\n",
       "    'title': 'Add multiple subscriptions to the same tenant',\n",
       "    'description': 'Enables multiple subscriptions on the same Webex Contact Center and Hybrid tenant, offering flexibility in billing terms for different departments.',\n",
       "    'section': \"What's new\",\n",
       "    'additionalInfo': {'links': ['https://multiple-subscriptions'],\n",
       "     'features': []}},\n",
       "   {'date': '2024-10-30',\n",
       "    'title': 'Desktop telephony option now supported on Microsoft Edge and Firefox',\n",
       "    'description': 'Webex Contact Center agents can now use Desktop (WebRTC) for voice interactions on Microsoft Edge and Firefox, expanding browser support.',\n",
       "    'section': \"What's new\",\n",
       "    'additionalInfo': {'links': [], 'features': []}},\n",
       "   {'date': '2024-10-23',\n",
       "    'title': 'Enhanced user sync for Webex Contact Center and Webex Connect',\n",
       "    'description': 'Expanded auto-sync feature to include all customer administrators, enabling seamless sign-in with the same user login to both Control Hub and Webex Connect.',\n",
       "    'section': \"What's new\",\n",
       "    'additionalInfo': {'links': ['https://provisioning-digital-section-in-setup',\n",
       "      'https://set-up-digital-channels'],\n",
       "     'features': []}},\n",
       "   {'date': '2024-10-18',\n",
       "    'title': 'Regional media support expanded to South Africa region',\n",
       "    'description': 'Webex Contact Center expands the Regional Media support to South Africa, localizing media processing and improving audio quality by reducing latency.',\n",
       "    'section': \"What's new\",\n",
       "    'additionalInfo': {'links': ['https://view-regional-media-support'],\n",
       "     'features': []}},\n",
       "   {'date': '2024-10-18',\n",
       "    'title': 'Cisco AI Assistant for Contact Center',\n",
       "    'description': 'AI Assistant aims to optimize agent work and customer experience with AI-generated call summaries at various touchpoints, improving context building and reducing repetition.',\n",
       "    'section': 'Announcements',\n",
       "    'additionalInfo': {'links': [],\n",
       "     'features': ['AI-generated call summaries',\n",
       "      'Auto summaries for dropped calls',\n",
       "      'Virtual Agent Transfer Summaries']}},\n",
       "   {'date': '2024-10-16',\n",
       "    'title': 'Post call IVR surveys now available globally',\n",
       "    'description': 'Post-call Interactive Voice Response (PCR IVR) surveys enable customer feedback collection at the end of a call, enhancing the understanding of customer satisfaction.',\n",
       "    'section': \"What's new\",\n",
       "    'additionalInfo': {'links': [], 'features': []}}]},\n",
       " {'updates': [{'date': '2024-10-16',\n",
       "    'title': 'Post call IVR surveys now available globally',\n",
       "    'description': 'Post-call Interactive Voice Response (PCR IVR) surveys give customers the ability to collect customer feedback at the end of a call concerning an end user’s interaction with their Contact Center. It allows them to track and measure customer satisfaction using anchor metrics like Net Promoter Score (NPS), Customer Effort Score (CES), and Customer Satisfaction (CSAT). PCS IVR surveys are seamlessly integrated into Webex Contact Center through the Survey Builder in Control Hub where administrators can build surveys and download survey responses. After creating a survey, it gets integrated into the interaction flow via the Flow Builder. This feature is now available globally to all Webex Contact Center customers as long as they have migrated to the Next Generation Media platform.',\n",
       "    'section': \"What's new\",\n",
       "    'additionalInfo': {'links': ['https://help.webex.com/en-us/nzap2xq/Experience-Management-IVR-Surveys-for-Webex-Contact-Center'],\n",
       "     'features': []}},\n",
       "   {'date': '2024-10-11',\n",
       "    'title': 'Agent Email Id output variable for Events',\n",
       "    'description': \"Webex Contact Center Flow Developers and Administrators can now utilize agent's Login ID in the form of a unique Email address within Event Flows. This new feature introduces an output variable AgentEmailID, which captures the selected Agent's Logged in Email Address for various events such as AgentOffered, AgentAnswered, AgentDisconnected, and PhoneContactEnded. This enhancement enables additional integrations with external systems like Customer Relationship Management (CRMs) and Ticketing systems for agent specific data, ensuring improved consistency and tracking capabilities. This feature unlocks advanced integration-specific event flows and enhances overall workflow efficiency, by allowing flow developers to accurately tag contact data to the agent's user record on external systems.\",\n",
       "    'section': \"What's new\",\n",
       "    'additionalInfo': {'links': ['https://help.webex.com/en-us/flow-designer-guide'],\n",
       "     'features': []}}]}]"
      ]
     },
     "execution_count": 91,
     "metadata": {},
     "output_type": "execute_result"
    }
   ],
   "source": [
    "release_document_output"
   ]
  },
  {
   "cell_type": "code",
   "execution_count": 42,
   "metadata": {},
   "outputs": [
    {
     "data": {
      "text/plain": [
       "{'title': \"What's new for administrators in Webex Contact Center\",\n",
       " 'intro': 'We want to make sure that you know about the major updates made available in Webex Contact Center for administrators—updates to the interface, new functionality, and ways to manage your contact center.',\n",
       " 'newFeatures': [{'date': 'January 27, 2025',\n",
       "   'feature': 'Introducing cookies consent for Livechat widget',\n",
       "   'description': \"Businesses can ensure they respect their customers' privacy choices by allowing them to explicitly consent to cookies stored by our Livechat service before starting a chat session.\"},\n",
       "  {'date': 'January 27, 2025',\n",
       "   'feature': 'Retain email addresses in the To field',\n",
       "   'description': 'Agents can now add multiple email addresses in the To field when replying to all in a conversation.'},\n",
       "  {'date': 'January 24, 2025',\n",
       "   'feature': 'Agent initiated outbound SMS and Email support',\n",
       "   'description': 'Supervisors can initiate an outbound SMS or Email Task from the Webex Contact Center Agent Desktop.'},\n",
       "  {'date': 'January 15, 2025',\n",
       "   'feature': 'Progressive 1:1 Popover Enhancement',\n",
       "   'description': 'Allows an organization to pass customer data to the Desktop when the Dialing rate is set to 1.0 and the mode is progressive only.'},\n",
       "  {'date': 'January 15, 2025',\n",
       "   'feature': 'Flow Designer canvas enhancements',\n",
       "   'description': 'Includes Undo/Redo capability, Auto Arrange feature, and ability to Copy/Paste across different flows, promoting clarity and maintainability.'},\n",
       "  {'date': 'January 7, 2025',\n",
       "   'feature': 'Enhancing SFDC case creation experience: opening cases in new tabs',\n",
       "   'description': 'Auto-case creation in Salesforce now opens all new cases in a separate tab.'}]}"
      ]
     },
     "execution_count": 42,
     "metadata": {},
     "output_type": "execute_result"
    }
   ],
   "source": [
    "safe_eval(extract_python_code(release_document_output))"
   ]
  },
  {
   "cell_type": "code",
   "execution_count": 48,
   "metadata": {},
   "outputs": [],
   "source": [
    "with open(\"C:\\\\Users\\\\alist\\\\Desktop\\\\code\\\\askharrison\\\\askharrison\\\\llm_models.py\") as f:\n",
    "    codefile = f.read()\n",
    "    "
   ]
  },
  {
   "cell_type": "code",
   "execution_count": 49,
   "metadata": {},
   "outputs": [],
   "source": [
    "code_recommended_output = schema_generator.recommend_schema_from_document(codefile)"
   ]
  },
  {
   "cell_type": "code",
   "execution_count": 50,
   "metadata": {},
   "outputs": [
    {
     "data": {
      "text/plain": [
       "{'description': 'A set of Python functions for language model interaction and utility tasks, including data processing, concurrency, and input chunking.',\n",
       " 'schema': {'imports': {'type': 'array',\n",
       "   'items': {'type': 'string'},\n",
       "   'description': 'List of imported libraries and modules.'},\n",
       "  'functions': {'type': 'object',\n",
       "   'properties': {'process_question': {'type': 'object',\n",
       "     'description': 'Process a question using the specified language model.',\n",
       "     'properties': {'input': {'type': 'object',\n",
       "       'properties': {'question': {'type': 'string',\n",
       "         'description': 'The question to be processed by the language model.'},\n",
       "        'model': {'type': 'string',\n",
       "         'description': 'The model used for processing the question.'}}},\n",
       "      'output': {'type': 'string',\n",
       "       'description': 'Response generated by the language model.'}}},\n",
       "    'polish_code': {'type': 'object',\n",
       "     'description': 'Polishes code by removing unwanted characters.',\n",
       "     'properties': {'input': {'type': 'string',\n",
       "       'description': 'A string of Python code.'},\n",
       "      'output': {'type': 'string', 'description': 'Polished code.'}}},\n",
       "    'extract_python_code': {'type': 'object',\n",
       "     'description': 'Extracts code from a response.',\n",
       "     'properties': {'input': {'type': 'object',\n",
       "       'properties': {'response': {'type': 'string',\n",
       "         'description': 'Response string potentially containing code.'},\n",
       "        'separator': {'type': 'string',\n",
       "         'description': 'The separator used to locate code in the response.'}}},\n",
       "      'output': {'type': 'string', 'description': 'Extracted code.'}}},\n",
       "    'safe_eval': {'type': 'object',\n",
       "     'description': 'Evaluates a string safely, falling back to JSON if necessary.',\n",
       "     'properties': {'input_str': {'type': 'string',\n",
       "       'description': 'The string to be evaluated as Python or JSON.'},\n",
       "      'default_output': {'anyOf': [{'type': 'null'},\n",
       "        {'type': 'string'},\n",
       "        {'type': 'number'},\n",
       "        {'type': 'object'},\n",
       "        {'type': 'array'}],\n",
       "       'description': 'Default output if evaluation fails.'},\n",
       "      'output': {'anyOf': [{'type': 'null'},\n",
       "        {'type': 'string'},\n",
       "        {'type': 'number'},\n",
       "        {'type': 'object'},\n",
       "        {'type': 'array'}],\n",
       "       'description': 'Result of evaluation or default output.'}}},\n",
       "    'parallel_llm_processor': {'type': 'object',\n",
       "     'description': 'Processes prompts in parallel using LLM function calls.',\n",
       "     'properties': {'prompts': {'type': 'array',\n",
       "       'items': {'type': 'string'},\n",
       "       'description': 'List of prompts to process.'},\n",
       "      'llm_function': {'description': 'Function called for each prompt (callable)'},\n",
       "      'max_workers': {'type': 'integer',\n",
       "       'description': 'Maximum number of parallel workers.'},\n",
       "      'output': {'type': 'array',\n",
       "       'description': 'List of results from LLM processing.'}}},\n",
       "    'chunk_llm_input': {'type': 'object',\n",
       "     'description': 'Chunks input into smaller pieces before processing with a language model.',\n",
       "     'properties': {'max_tokens': {'type': 'integer',\n",
       "       'description': 'Maximum number of tokens allowed in each chunk.'},\n",
       "      'encoding_name': {'type': 'string',\n",
       "       'description': 'Name of the encoding used for token counting.'},\n",
       "      'output': {'type': 'array',\n",
       "       'description': 'Processed results for input chunks.'}}},\n",
       "    'chunk_text_input': {'type': 'object',\n",
       "     'description': 'Chunks a large text input into smaller pieces for processing by language models.',\n",
       "     'properties': {'max_tokens': {'type': 'integer',\n",
       "       'description': 'Maximum number of tokens allowed in each chunk.'},\n",
       "      'encoding_name': {'type': 'string',\n",
       "       'description': 'Name of the encoding used for token counting.'},\n",
       "      'output': {'type': 'array',\n",
       "       'description': 'Processed text chunks.'}}}}}}}"
      ]
     },
     "execution_count": 50,
     "metadata": {},
     "output_type": "execute_result"
    }
   ],
   "source": [
    "code_recommended_output"
   ]
  },
  {
   "cell_type": "code",
   "execution_count": 64,
   "metadata": {},
   "outputs": [],
   "source": [
    "codefile_schama_dict = json.loads(extract_python_code(code_recommended_output))\n",
    "\n",
    "# create a pydantic model from the schema without using the schema generator\n",
    "from pydantic import BaseModel\n",
    "     "
   ]
  },
  {
   "cell_type": "code",
   "execution_count": 68,
   "metadata": {},
   "outputs": [],
   "source": [
    "pydantic_output = openai_client.generate(f\"\"\"generate a pydantic models from the schema below\n",
    "                       {codefile_schama_dict}\"\n",
    "                       return only python code for the pydantic model,\n",
    "                       example output:\n",
    "                       ####\n",
    "                       ```python\n",
    "                       class MyModel(BaseModel):\n",
    "                            field1: str\n",
    "                            field2: int\n",
    "                       \n",
    "                       class MyModel2(BaseModel):\n",
    "                            field1: MyModel\n",
    "                            field2: int\n",
    "                       ```\n",
    "                       ####\n",
    "                       output\n",
    "                       \"\"\")"
   ]
  },
  {
   "cell_type": "code",
   "execution_count": 74,
   "metadata": {},
   "outputs": [
    {
     "name": "stdout",
     "output_type": "stream",
     "text": [
      "from typing import List, Optional\n",
      "from pydantic import BaseModel\n",
      "\n",
      "class Parameter(BaseModel):\n",
      "    name: str\n",
      "    type: str\n",
      "    description: str\n",
      "    default: Optional[str] = None\n",
      "\n",
      "class Function(BaseModel):\n",
      "    name: str\n",
      "    description: str\n",
      "    parameters: List[Parameter]\n",
      "    returns: str\n",
      "\n",
      "class Schema(BaseModel):\n",
      "    imports: List[str]\n",
      "    functions: List[Function]\n"
     ]
    }
   ],
   "source": [
    "print(extract_python_code(pydantic_output))"
   ]
  },
  {
   "cell_type": "code",
   "execution_count": 79,
   "metadata": {},
   "outputs": [],
   "source": [
    "from askharrison.llmparse.document_parser import DocumentParser\n",
    "document_parser = DocumentParser(openai_client) "
   ]
  },
  {
   "cell_type": "code",
   "execution_count": 80,
   "metadata": {},
   "outputs": [],
   "source": [
    "document_parser = DocumentParser(openai_client) "
   ]
  },
  {
   "cell_type": "code",
   "execution_count": 81,
   "metadata": {},
   "outputs": [
    {
     "name": "stdout",
     "output_type": "stream",
     "text": [
      "Invalid JSON in LLM response, returning raw response\n"
     ]
    }
   ],
   "source": [
    "doc_parsed_output = document_parser.parse_document(codefile, codefile_schama_dict)"
   ]
  },
  {
   "cell_type": "code",
   "execution_count": 1,
   "metadata": {},
   "outputs": [
    {
     "ename": "NameError",
     "evalue": "name 'safe_eval' is not defined",
     "output_type": "error",
     "traceback": [
      "\u001b[1;31m---------------------------------------------------------------------------\u001b[0m",
      "\u001b[1;31mNameError\u001b[0m                                 Traceback (most recent call last)",
      "Cell \u001b[1;32mIn[1], line 1\u001b[0m\n\u001b[1;32m----> 1\u001b[0m \u001b[43msafe_eval\u001b[49m(extract_python_code(doc_parsed_output))\n",
      "\u001b[1;31mNameError\u001b[0m: name 'safe_eval' is not defined"
     ]
    }
   ],
   "source": [
    "safe_eval(extract_python_code(doc_parsed_output))"
   ]
  },
  {
   "cell_type": "code",
   "execution_count": 10,
   "metadata": {},
   "outputs": [],
   "source": [
    "from openai import OpenAI\n",
    "\n",
    "# get the text with https://help.webex.com/en-us/article/8dmbcr/What's-New-in-Webex-Suite\n",
    "import requests\n",
    "url = \"https://help.webex.com/en-us/article/8dmbcr/What's-New-in-Webex-Suite\"\n",
    "\n",
    "response = requests.get(url)\n",
    "from bs4 import BeautifulSoup\n",
    "\n",
    "soup = BeautifulSoup(response.text, 'html.parser')\n",
    "text = soup.get_text()"
   ]
  },
  {
   "cell_type": "code",
   "execution_count": 11,
   "metadata": {},
   "outputs": [],
   "source": [
    "#export text to file\n",
    "with open(\"C:\\\\Users\\\\alist\\\\Desktop\\\\code\\\\askharrison\\\\notebooks\\\\data\\\\webex_new.txt\", \"w\") as f:\n",
    "    f.write(text)"
   ]
  },
  {
   "cell_type": "code",
   "execution_count": 58,
   "metadata": {},
   "outputs": [],
   "source": [
    "from askharrison.llmparse.document_parser import DocumentParser\n",
    "document_parser = DocumentParser(openai_client) "
   ]
  },
  {
   "cell_type": "code",
   "execution_count": 21,
   "metadata": {},
   "outputs": [],
   "source": [
    "recommended_schema = schema_generator.recommend_schema_from_document(text)"
   ]
  },
  {
   "cell_type": "code",
   "execution_count": 41,
   "metadata": {},
   "outputs": [],
   "source": [
    "recommended_schema2 = schema_generator.update_schema_from_feedback(recommended_schema, \"make it simpler\")"
   ]
  },
  {
   "cell_type": "code",
   "execution_count": 53,
   "metadata": {},
   "outputs": [],
   "source": [
    "with open(\"C:\\\\Users\\\\alist\\\\Desktop\\\\code\\\\askharrison\\\\notebooks\\\\data\\\\release_schema.json\", \"w\") as f:\n",
    "    json.dump(recommended_schema2, f)"
   ]
  },
  {
   "cell_type": "code",
   "execution_count": 42,
   "metadata": {},
   "outputs": [
    {
     "data": {
      "text/plain": [
       "['Root:',\n",
       " '  Type: object',\n",
       " '  Description: A simplified schema for parsing Webex update logs.',\n",
       " '  Properties:',\n",
       " '    updates:',\n",
       " '      Type: array',\n",
       " '      Array items:',\n",
       " '        Root:',\n",
       " '          Type: object',\n",
       " '          Properties:',\n",
       " '            date:',\n",
       " '              Type: string',\n",
       " '              Description: Date of the update.',\n",
       " '            version:',\n",
       " '              Type: string',\n",
       " '              Description: Version number of the release.',\n",
       " '            platforms:',\n",
       " '              Type: array',\n",
       " '              Array items:',\n",
       " '                Root:',\n",
       " '                  Type: string',\n",
       " '                  Description: Platform(s) affected (e.g., Windows, Mac).',\n",
       " '            changes:',\n",
       " '              Type: string',\n",
       " '              Description: Summary of new features, fixes, and changes.',\n",
       " '            announcements:',\n",
       " '              Type: array',\n",
       " '              Array items:',\n",
       " '                Root:',\n",
       " '                  Type: string',\n",
       " '                  Description: Notices and announcements.',\n",
       " '            upcoming_updates:',\n",
       " '              Type: string',\n",
       " '              Description: Information about upcoming updates.',\n",
       " '          Required fields: date, version, platforms',\n",
       " '  Required fields: updates']"
      ]
     },
     "execution_count": 42,
     "metadata": {},
     "output_type": "execute_result"
    }
   ],
   "source": [
    "from askharrison.llmparse.uitl import format_json_schema\n",
    "format_json_schema(recommended_schema2)"
   ]
  },
  {
   "cell_type": "code",
   "execution_count": 64,
   "metadata": {},
   "outputs": [],
   "source": [
    "from askharrison.llm.token_util import clip_text_by_token\n",
    "\n",
    "text_truncated = clip_text_by_token(text, 10000)\n",
    "\n",
    "# export text_truncated to file\n",
    "with open(\"C:\\\\Users\\\\alist\\\\Desktop\\\\code\\\\askharrison\\\\notebooks\\\\data\\\\webex_new_truncated.txt\", \"w\") as f:\n",
    "    f.write(text_truncated)"
   ]
  },
  {
   "cell_type": "code",
   "execution_count": 59,
   "metadata": {},
   "outputs": [
    {
     "name": "stdout",
     "output_type": "stream",
     "text": [
      "Document too large, splitting into chunks\n",
      "Document too large, splitting into 3 chunks\n",
      "Invalid JSON in LLM response, returning raw response\n",
      "Invalid JSON in LLM response, returning raw response\n",
      "Invalid JSON in LLM response, returning raw response\n"
     ]
    }
   ],
   "source": [
    "doc_parsed_output = document_parser.parse_document(text_truncated, recommended_schema)"
   ]
  },
  {
   "cell_type": "code",
   "execution_count": 63,
   "metadata": {},
   "outputs": [
    {
     "data": {
      "text/plain": [
       "3"
      ]
     },
     "execution_count": 63,
     "metadata": {},
     "output_type": "execute_result"
    }
   ],
   "source": [
    "# get type of each doc_parsed_output\n",
    "\n",
    "doc_parsed_output_types = [type(x) for x in doc_parsed_output]\n",
    "doc_parsed_update_types = [type(x.get(\"updates\")) for x in doc_parsed_output]\n",
    "doc_parsed_update_types \n",
    "\n",
    "doc_parsed_output_updates = [x.get(\"updates\") for x in doc_parsed_output]\n",
    "len(doc_parsed_output_updates)"
   ]
  },
  {
   "cell_type": "code",
   "execution_count": 62,
   "metadata": {},
   "outputs": [
    {
     "data": {
      "text/plain": [
       "[{'date': 'November 1, 2023',\n",
       "  'update': 'End of support for Android 9 in Webex App',\n",
       "  'details': 'Google stopped releasing new security updates for Android 9, ending support for Android 9 in Webex starting November 1, 2023.'},\n",
       " {'date': 'October 4, 2023',\n",
       "  'update': 'Article renamed',\n",
       "  'details': \"Renamed article from 'Webex App | What's New' to 'What's New in Webex Suite'.\"},\n",
       " {'date': 'October 4, 2023',\n",
       "  'update': 'Updated app versions',\n",
       "  'details': 'New app versions for various platforms: Windows—43.10.0.27451, Mac—43.10.0.27451, iPhone and iPad—43.10, Android—43.10.'},\n",
       " {'date': 'September 29, 2023',\n",
       "  'update': 'Support for iOS 17 and iPadOS 17',\n",
       "  'details': 'Webex App is supported on iOS 17 and iPadOS 17.'},\n",
       " {'date': 'September 28, 2023',\n",
       "  'update': 'Support for macOS Sonoma 14.0',\n",
       "  'details': 'Announced Day 0 support for macOS Sonoma 14.0.'},\n",
       " {'date': 'September 15, 2023',\n",
       "  'update': 'End of life announcement for Unicon eLux RP6 2104 LTSR and Ubuntu 16.04 LTS',\n",
       "  'details': 'No longer supported on Webex App VDI and Webex Meetings VDI version 43.10.'},\n",
       " {'date': 'September 13, 2023',\n",
       "  'update': 'Improvements for Microsoft OneDrive and SharePoint Online integration',\n",
       "  'details': 'File and folder picker updated to version 8 for a more stable experience.'},\n",
       " {'date': 'September 5, 2023',\n",
       "  'update': 'App version release',\n",
       "  'details': 'New app versions: Windows—43.9.0.27194, Mac—43.9.0.27194, iPhone and iPad—43.9, Android—43.9.'},\n",
       " {'date': 'August 14, 2023',\n",
       "  'update': 'App version release',\n",
       "  'details': 'New app versions: Windows—43.8.0.26955, Linux—43.8.0.26955, Mac—43.8.0.26955, iPhone and iPad—43.8, Android—43.8.'},\n",
       " {'date': 'July 21, 2023',\n",
       "  'update': 'Phasing out support of Basic and Advanced meetings',\n",
       "  'details': 'Phasing out support of Basic and Advanced meetings associated with a space starting September 4, 2023.'},\n",
       " {'date': 'July 10, 2023',\n",
       "  'update': 'App version release',\n",
       "  'details': 'New app versions: Windows—43.7.0.26612, Mac—43.7.0.26612, iPhone and iPad—43.7, Android—43.7.'},\n",
       " {'date': 'June 12, 2023',\n",
       "  'update': 'App version release',\n",
       "  'details': 'New app versions: Windows—43.6.0.26407, Mac—43.6.0.26407, iPhone and iPad—43.6, Android—43.6.'},\n",
       " {'date': 'June 1, 2023',\n",
       "  'update': 'Release of Webex App progressive Web App (PWA)',\n",
       "  'details': 'New PWA for Chrome OS devices providing the same capabilities as the Webex App.'}]"
      ]
     },
     "execution_count": 62,
     "metadata": {},
     "output_type": "execute_result"
    }
   ],
   "source": [
    "doc_parsed_output_updates[2]"
   ]
  }
 ],
 "metadata": {
  "kernelspec": {
   "display_name": "ds",
   "language": "python",
   "name": "python3"
  },
  "language_info": {
   "codemirror_mode": {
    "name": "ipython",
    "version": 3
   },
   "file_extension": ".py",
   "mimetype": "text/x-python",
   "name": "python",
   "nbconvert_exporter": "python",
   "pygments_lexer": "ipython3",
   "version": "3.10.13"
  }
 },
 "nbformat": 4,
 "nbformat_minor": 2
}
