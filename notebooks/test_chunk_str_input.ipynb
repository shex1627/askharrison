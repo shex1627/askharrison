{
 "cells": [
  {
   "cell_type": "code",
   "execution_count": 1,
   "metadata": {},
   "outputs": [],
   "source": [
    "from askharrison.llm_models import chunk_text_input"
   ]
  },
  {
   "cell_type": "code",
   "execution_count": 2,
   "metadata": {},
   "outputs": [],
   "source": [
    "@chunk_text_input(max_tokens=100)\n",
    "def generate_llm_prompt(text: str) -> str:\n",
    "    return f\"Summarize the following text:\\n\\n{text}\""
   ]
  },
  {
   "cell_type": "code",
   "execution_count": 3,
   "metadata": {},
   "outputs": [],
   "source": [
    "# Example usage\n",
    "long_text = \"Your very long text here. \" * 100\n",
    "prompts = generate_llm_prompt(long_text)"
   ]
  },
  {
   "cell_type": "code",
   "execution_count": 4,
   "metadata": {},
   "outputs": [
    {
     "data": {
      "text/plain": [
       "['Summarize the following text:\\n\\nYour very long text here. Your very long text here. Your very long text here. Your very long text here. Your very long text here. Your very long text here. Your very long text here. Your very long text here. Your very long text here. Your very long text here. Your very long text here. Your very long text here. Your very long text here. Your very long text here. Your very long text here. Your very long text here.',\n",
       " 'Summarize the following text:\\n\\nYour very long text here. Your very long text here. Your very long text here. Your very long text here. Your very long text here. Your very long text here. Your very long text here. Your very long text here. Your very long text here. Your very long text here. Your very long text here. Your very long text here. Your very long text here. Your very long text here. Your very long text here. Your very long text here.',\n",
       " 'Summarize the following text:\\n\\nYour very long text here. Your very long text here. Your very long text here. Your very long text here. Your very long text here. Your very long text here. Your very long text here. Your very long text here. Your very long text here. Your very long text here. Your very long text here. Your very long text here. Your very long text here. Your very long text here. Your very long text here. Your very long text here.',\n",
       " 'Summarize the following text:\\n\\nYour very long text here. Your very long text here. Your very long text here. Your very long text here. Your very long text here. Your very long text here. Your very long text here. Your very long text here. Your very long text here. Your very long text here. Your very long text here. Your very long text here. Your very long text here. Your very long text here. Your very long text here. Your very long text here.',\n",
       " 'Summarize the following text:\\n\\nYour very long text here. Your very long text here. Your very long text here. Your very long text here. Your very long text here. Your very long text here. Your very long text here. Your very long text here. Your very long text here. Your very long text here. Your very long text here. Your very long text here. Your very long text here. Your very long text here. Your very long text here. Your very long text here.',\n",
       " 'Summarize the following text:\\n\\nYour very long text here. Your very long text here. Your very long text here. Your very long text here. Your very long text here. Your very long text here. Your very long text here. Your very long text here. Your very long text here. Your very long text here. Your very long text here. Your very long text here. Your very long text here. Your very long text here. Your very long text here. Your very long text here.',\n",
       " 'Summarize the following text:\\n\\nYour very long text here. Your very long text here. Your very long text here. Your very long text here. ']"
      ]
     },
     "execution_count": 4,
     "metadata": {},
     "output_type": "execute_result"
    }
   ],
   "source": [
    "prompts"
   ]
  }
 ],
 "metadata": {
  "kernelspec": {
   "display_name": "3.12.6",
   "language": "python",
   "name": "python3"
  },
  "language_info": {
   "codemirror_mode": {
    "name": "ipython",
    "version": 3
   },
   "file_extension": ".py",
   "mimetype": "text/x-python",
   "name": "python",
   "nbconvert_exporter": "python",
   "pygments_lexer": "ipython3",
   "version": "3.12.6"
  }
 },
 "nbformat": 4,
 "nbformat_minor": 2
}
